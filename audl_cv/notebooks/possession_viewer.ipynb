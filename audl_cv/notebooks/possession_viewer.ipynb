{
 "cells": [
  {
   "cell_type": "markdown",
   "metadata": {},
   "source": [
    "# Possession viewer example\n",
    "Demos functionality for downloading and managing play-by-play/youtube data. Including clipping the youtube data based on manual annotations. At this point only the first quarter of 2021-09-03-RAL-DC is annotated (see `possession_to_video`)."
   ]
  },
  {
   "cell_type": "code",
   "execution_count": 20,
   "metadata": {},
   "outputs": [],
   "source": [
    "# Make sure we're running from project root\n",
    "import os\n",
    "os.chdir('../../')"
   ]
  },
  {
   "cell_type": "code",
   "execution_count": 4,
   "metadata": {},
   "outputs": [],
   "source": [
    "from audl_cv.game import Game\n",
    "\n",
    "# find these urls in all_games.txt\n",
    "g = Game(\n",
    "    \"https://audl-stat-server.herokuapp.com/stats-pages/game/2021-09-03-RAL-DC\"\n",
    ")"
   ]
  },
  {
   "cell_type": "code",
   "execution_count": 5,
   "metadata": {},
   "outputs": [
    {
     "data": {
      "text/plain": [
       "'data/possession_to_video/2021-09-03-RAL-DC.csv'"
      ]
     },
     "execution_count": 5,
     "metadata": {},
     "output_type": "execute_result"
    }
   ],
   "source": [
    "g.possession_to_video_path"
   ]
  },
  {
   "cell_type": "code",
   "execution_count": 10,
   "metadata": {},
   "outputs": [
    {
     "name": "stdout",
     "output_type": "stream",
     "text": [
      "Video already exists at data/youtube/2021-09-03-RAL-DC.mp4\n"
     ]
    }
   ],
   "source": [
    "# Defaults to highest quality video + audio\n",
    "# Might take ~5 mins to download\n",
    "g.download_video()"
   ]
  },
  {
   "cell_type": "code",
   "execution_count": 9,
   "metadata": {},
   "outputs": [
    {
     "data": {
      "text/plain": [
       "'data/possession_clips/2021-09-03-RAL-DC-12-1738-1786.mp4'"
      ]
     },
     "execution_count": 9,
     "metadata": {},
     "output_type": "execute_result"
    }
   ],
   "source": [
    "g.clip_possession(12)"
   ]
  },
  {
   "cell_type": "code",
   "execution_count": 15,
   "metadata": {},
   "outputs": [
    {
     "name": "stderr",
     "output_type": "stream",
     "text": [
      "/Users/nateaugust/.pyenv/versions/3.9.6/envs/audl-cv/lib/python3.9/site-packages/audl_advanced_stats/game.py:2108: FutureWarning:\n",
      "\n",
      "The frame.append method is deprecated and will be removed from pandas in a future version. Use pandas.concat instead.\n",
      "\n"
     ]
    }
   ],
   "source": [
    "# Right now this still take the \"home\" arg. We could overwrite to retry with oposite if returns nothing.\n",
    "fig = g.visual_possession_map_vertical(12, home=False)"
   ]
  },
  {
   "cell_type": "code",
   "execution_count": 14,
   "metadata": {},
   "outputs": [
    {
     "data": {
      "application/vnd.plotly.v1+json": {
       "config": {
        "plotlyServerURL": "https://plot.ly"
       },
       "data": [
        {
         "hoverinfo": "skip",
         "legendgroup": "",
         "marker": {
          "color": "gray",
          "size": [
           1
          ],
          "sizemode": "area",
          "sizeref": 0.01,
          "symbol": "circle"
         },
         "mode": "markers",
         "name": "",
         "orientation": "v",
         "showlegend": false,
         "type": "scatter",
         "x": [
          -0.35
         ],
         "xaxis": "x",
         "y": [
          22.09
         ],
         "yaxis": "y"
        },
        {
         "hovertemplate": "%{text}<extra></extra>",
         "marker": {
          "color": [
           "purple"
          ],
          "symbol": "diamond"
         },
         "mode": "markers",
         "name": "Start of Possession",
         "text": [
          "<b>Start of Possession</b><br>Downfield Yards: 0.0<br>Sideways Yards: 0.0<br>Total Yards: 0.0"
         ],
         "type": "scatter",
         "x": [
          -0.35
         ],
         "y": [
          22.09
         ]
        },
        {
         "hovertemplate": "%{text}<extra></extra>",
         "marker": {
          "color": [
           "gray",
           "gray",
           "gray",
           "gray",
           "gray",
           "gray",
           "gray",
           "gray",
           "gray",
           "gray",
           "gray",
           "gray",
           "gray"
          ],
          "symbol": "diamond"
         },
         "mode": "markers",
         "name": "Completion",
         "text": [
          "<b>Completion: Noah Saul Dish to<br>Elijah Long for 9 yards</b><br>Downfield Yards: 8.5<br>Sideways Yards: 7.7<br>Total Yards: 11.5",
          "<b>Completion: Elijah Long Dump to<br>Noah Saul for -8 yards</b><br>Downfield Yards: -8.1<br>Sideways Yards: -13.4<br>Total Yards: 15.6",
          "<b>Completion: Noah Saul Throw to<br>Seth Weaver for 8 yards</b><br>Downfield Yards: 8.1<br>Sideways Yards: -14.7<br>Total Yards: 16.8",
          "<b>Completion: Seth Weaver Dish to<br>Noah Saul for 7 yards</b><br>Downfield Yards: 7.3<br>Sideways Yards: -3.5<br>Total Yards: 8.1",
          "<b>Completion: Noah Saul Dump to<br>Seth Weaver for -9 yards</b><br>Downfield Yards: -9.1<br>Sideways Yards: 5.9<br>Total Yards: 10.8",
          "<b>Completion: Seth Weaver Throw to<br>Eric Taylor for 7 yards</b><br>Downfield Yards: 6.8<br>Sideways Yards: 18.7<br>Total Yards: 19.9",
          "<b>Completion: Eric Taylor Throw to<br>Joey Cretella for 11 yards</b><br>Downfield Yards: 10.6<br>Sideways Yards: 19.8<br>Total Yards: 22.4",
          "<b>Completion: Joey Cretella Dish to<br>Seth Weaver for 10 yards</b><br>Downfield Yards: 9.6<br>Sideways Yards: 0.4<br>Total Yards: 9.6",
          "<b>Completion: Seth Weaver Swing to<br>Joey Cretella for -13 yards</b><br>Downfield Yards: -12.9<br>Sideways Yards: -26.0<br>Total Yards: 29.0",
          "<b>Completion: Joey Cretella Dish to<br>Elijah Long for 7 yards</b><br>Downfield Yards: 7.0<br>Sideways Yards: -9.0<br>Total Yards: 11.4",
          "<b>Completion: Elijah Long Throw to<br>Ethan Bloodworth for 16 yards</b><br>Downfield Yards: 15.5<br>Sideways Yards: -7.5<br>Total Yards: 17.3",
          "<b>Completion: Ethan Bloodworth Dump to<br>Elijah Long for -8 yards</b><br>Downfield Yards: -8.2<br>Sideways Yards: 6.3<br>Total Yards: 10.4",
          "<b>Completion: Elijah Long Dish to<br>Ethan Bloodworth for 6 yards</b><br>Downfield Yards: 6.0<br>Sideways Yards: 7.0<br>Total Yards: 9.2"
         ],
         "type": "scatter",
         "x": [
          7.36,
          -6.01,
          -20.74,
          -24.22,
          -18.28,
          0.4,
          20.18,
          20.59,
          -5.39,
          -14.4,
          -21.9,
          -15.62,
          -8.6
         ],
         "y": [
          30.61,
          22.5,
          30.61,
          37.9,
          28.84,
          35.59,
          46.15,
          55.77,
          42.88,
          49.84,
          65.38,
          57.13,
          63.13
         ]
        },
        {
         "hovertemplate": "%{text}<extra></extra>",
         "marker": {
          "color": [
           "green"
          ],
          "symbol": "diamond"
         },
         "mode": "markers",
         "name": "Score",
         "text": [
          "<b>Score: Ethan Bloodworth Throw to<br>Eric Taylor for 37 yards</b><br>Downfield Yards: 44.2<br>Sideways Yards: 17.0<br>Total Yards: 47.4"
         ],
         "type": "scatter",
         "x": [
          8.38
         ],
         "y": [
          107.38
         ]
        }
       ],
       "frames": [
        {
         "data": [
          {
           "legendgroup": "",
           "marker": {
            "color": "gray",
            "size": [
             1
            ],
            "sizemode": "area",
            "sizeref": 0.01,
            "symbol": "circle"
           },
           "mode": "markers",
           "name": "",
           "orientation": "v",
           "showlegend": false,
           "type": "scatter",
           "x": [
            -0.35
           ],
           "xaxis": "x",
           "y": [
            22.09
           ],
           "yaxis": "y"
          }
         ],
         "name": "1"
        },
        {
         "data": [
          {
           "legendgroup": "",
           "marker": {
            "color": "gray",
            "size": [
             1
            ],
            "sizemode": "area",
            "sizeref": 0.01,
            "symbol": "circle"
           },
           "mode": "markers",
           "name": "",
           "orientation": "v",
           "showlegend": false,
           "type": "scatter",
           "x": [
            7.36
           ],
           "xaxis": "x",
           "y": [
            30.61
           ],
           "yaxis": "y"
          }
         ],
         "name": "2"
        },
        {
         "data": [
          {
           "legendgroup": "",
           "marker": {
            "color": "gray",
            "size": [
             1
            ],
            "sizemode": "area",
            "sizeref": 0.01,
            "symbol": "circle"
           },
           "mode": "markers",
           "name": "",
           "orientation": "v",
           "showlegend": false,
           "type": "scatter",
           "x": [
            -6.01
           ],
           "xaxis": "x",
           "y": [
            22.5
           ],
           "yaxis": "y"
          }
         ],
         "name": "3"
        },
        {
         "data": [
          {
           "legendgroup": "",
           "marker": {
            "color": "gray",
            "size": [
             1
            ],
            "sizemode": "area",
            "sizeref": 0.01,
            "symbol": "circle"
           },
           "mode": "markers",
           "name": "",
           "orientation": "v",
           "showlegend": false,
           "type": "scatter",
           "x": [
            -20.74
           ],
           "xaxis": "x",
           "y": [
            30.61
           ],
           "yaxis": "y"
          }
         ],
         "name": "4"
        },
        {
         "data": [
          {
           "legendgroup": "",
           "marker": {
            "color": "gray",
            "size": [
             1
            ],
            "sizemode": "area",
            "sizeref": 0.01,
            "symbol": "circle"
           },
           "mode": "markers",
           "name": "",
           "orientation": "v",
           "showlegend": false,
           "type": "scatter",
           "x": [
            -24.22
           ],
           "xaxis": "x",
           "y": [
            37.9
           ],
           "yaxis": "y"
          }
         ],
         "name": "5"
        },
        {
         "data": [
          {
           "legendgroup": "",
           "marker": {
            "color": "gray",
            "size": [
             1
            ],
            "sizemode": "area",
            "sizeref": 0.01,
            "symbol": "circle"
           },
           "mode": "markers",
           "name": "",
           "orientation": "v",
           "showlegend": false,
           "type": "scatter",
           "x": [
            -18.28
           ],
           "xaxis": "x",
           "y": [
            28.84
           ],
           "yaxis": "y"
          }
         ],
         "name": "6"
        },
        {
         "data": [
          {
           "legendgroup": "",
           "marker": {
            "color": "gray",
            "size": [
             1
            ],
            "sizemode": "area",
            "sizeref": 0.01,
            "symbol": "circle"
           },
           "mode": "markers",
           "name": "",
           "orientation": "v",
           "showlegend": false,
           "type": "scatter",
           "x": [
            0.4
           ],
           "xaxis": "x",
           "y": [
            35.59
           ],
           "yaxis": "y"
          }
         ],
         "name": "7"
        },
        {
         "data": [
          {
           "legendgroup": "",
           "marker": {
            "color": "gray",
            "size": [
             1
            ],
            "sizemode": "area",
            "sizeref": 0.01,
            "symbol": "circle"
           },
           "mode": "markers",
           "name": "",
           "orientation": "v",
           "showlegend": false,
           "type": "scatter",
           "x": [
            20.18
           ],
           "xaxis": "x",
           "y": [
            46.15
           ],
           "yaxis": "y"
          }
         ],
         "name": "8"
        },
        {
         "data": [
          {
           "legendgroup": "",
           "marker": {
            "color": "gray",
            "size": [
             1
            ],
            "sizemode": "area",
            "sizeref": 0.01,
            "symbol": "circle"
           },
           "mode": "markers",
           "name": "",
           "orientation": "v",
           "showlegend": false,
           "type": "scatter",
           "x": [
            20.59
           ],
           "xaxis": "x",
           "y": [
            55.77
           ],
           "yaxis": "y"
          }
         ],
         "name": "9"
        },
        {
         "data": [
          {
           "legendgroup": "",
           "marker": {
            "color": "gray",
            "size": [
             1
            ],
            "sizemode": "area",
            "sizeref": 0.01,
            "symbol": "circle"
           },
           "mode": "markers",
           "name": "",
           "orientation": "v",
           "showlegend": false,
           "type": "scatter",
           "x": [
            -5.39
           ],
           "xaxis": "x",
           "y": [
            42.88
           ],
           "yaxis": "y"
          }
         ],
         "name": "10"
        },
        {
         "data": [
          {
           "legendgroup": "",
           "marker": {
            "color": "gray",
            "size": [
             1
            ],
            "sizemode": "area",
            "sizeref": 0.01,
            "symbol": "circle"
           },
           "mode": "markers",
           "name": "",
           "orientation": "v",
           "showlegend": false,
           "type": "scatter",
           "x": [
            -14.4
           ],
           "xaxis": "x",
           "y": [
            49.84
           ],
           "yaxis": "y"
          }
         ],
         "name": "11"
        },
        {
         "data": [
          {
           "legendgroup": "",
           "marker": {
            "color": "gray",
            "size": [
             1
            ],
            "sizemode": "area",
            "sizeref": 0.01,
            "symbol": "circle"
           },
           "mode": "markers",
           "name": "",
           "orientation": "v",
           "showlegend": false,
           "type": "scatter",
           "x": [
            -21.9
           ],
           "xaxis": "x",
           "y": [
            65.38
           ],
           "yaxis": "y"
          }
         ],
         "name": "12"
        },
        {
         "data": [
          {
           "legendgroup": "",
           "marker": {
            "color": "gray",
            "size": [
             1
            ],
            "sizemode": "area",
            "sizeref": 0.01,
            "symbol": "circle"
           },
           "mode": "markers",
           "name": "",
           "orientation": "v",
           "showlegend": false,
           "type": "scatter",
           "x": [
            -15.62
           ],
           "xaxis": "x",
           "y": [
            57.13
           ],
           "yaxis": "y"
          }
         ],
         "name": "13"
        },
        {
         "data": [
          {
           "legendgroup": "",
           "marker": {
            "color": "gray",
            "size": [
             1
            ],
            "sizemode": "area",
            "sizeref": 0.01,
            "symbol": "circle"
           },
           "mode": "markers",
           "name": "",
           "orientation": "v",
           "showlegend": false,
           "type": "scatter",
           "x": [
            -8.6
           ],
           "xaxis": "x",
           "y": [
            63.13
           ],
           "yaxis": "y"
          }
         ],
         "name": "14"
        },
        {
         "data": [
          {
           "legendgroup": "",
           "marker": {
            "color": "gray",
            "size": [
             1
            ],
            "sizemode": "area",
            "sizeref": 0.01,
            "symbol": "circle"
           },
           "mode": "markers",
           "name": "",
           "orientation": "v",
           "showlegend": false,
           "type": "scatter",
           "x": [
            8.38
           ],
           "xaxis": "x",
           "y": [
            107.38
           ],
           "yaxis": "y"
          }
         ],
         "name": "15"
        }
       ],
       "layout": {
        "annotations": [
         {
          "arrowhead": 2,
          "arrowsize": 1.5,
          "ax": 30,
          "axref": "x",
          "ay": 60,
          "ayref": "y",
          "showarrow": true,
          "text": "Attacking",
          "x": 30,
          "xref": "x",
          "y": 80,
          "yref": "y"
         }
        ],
        "font": {
         "family": "TW Cen MT"
        },
        "height": 800,
        "hoverlabel": {
         "font": {
          "family": "TW Cen MT"
         }
        },
        "legend": {
         "itemsizing": "constant",
         "tracegroupgap": 0
        },
        "margin": {
         "b": 0,
         "l": 0,
         "r": 0,
         "t": 0
        },
        "paper_bgcolor": "rgba(0,0,0,0)",
        "plot_bgcolor": "rgba(0,0,0,0)",
        "shapes": [
         {
          "layer": "below",
          "line": {
           "color": "gray"
          },
          "type": "line",
          "x0": -0.35,
          "x1": 7.36,
          "y0": 22.09,
          "y1": 30.61
         },
         {
          "layer": "below",
          "line": {
           "color": "gray"
          },
          "type": "line",
          "x0": 7.36,
          "x1": -6.01,
          "y0": 30.61,
          "y1": 22.5
         },
         {
          "layer": "below",
          "line": {
           "color": "gray"
          },
          "type": "line",
          "x0": -6.01,
          "x1": -20.74,
          "y0": 22.5,
          "y1": 30.61
         },
         {
          "layer": "below",
          "line": {
           "color": "gray"
          },
          "type": "line",
          "x0": -20.74,
          "x1": -24.22,
          "y0": 30.61,
          "y1": 37.9
         },
         {
          "layer": "below",
          "line": {
           "color": "gray"
          },
          "type": "line",
          "x0": -24.22,
          "x1": -18.28,
          "y0": 37.9,
          "y1": 28.84
         },
         {
          "layer": "below",
          "line": {
           "color": "gray"
          },
          "type": "line",
          "x0": -18.28,
          "x1": 0.4,
          "y0": 28.84,
          "y1": 35.59
         },
         {
          "layer": "below",
          "line": {
           "color": "gray"
          },
          "type": "line",
          "x0": 0.4,
          "x1": 20.18,
          "y0": 35.59,
          "y1": 46.15
         },
         {
          "layer": "below",
          "line": {
           "color": "gray"
          },
          "type": "line",
          "x0": 20.18,
          "x1": 20.59,
          "y0": 46.15,
          "y1": 55.77
         },
         {
          "layer": "below",
          "line": {
           "color": "gray"
          },
          "type": "line",
          "x0": 20.59,
          "x1": -5.39,
          "y0": 55.77,
          "y1": 42.88
         },
         {
          "layer": "below",
          "line": {
           "color": "gray"
          },
          "type": "line",
          "x0": -5.39,
          "x1": -14.4,
          "y0": 42.88,
          "y1": 49.84
         },
         {
          "layer": "below",
          "line": {
           "color": "gray"
          },
          "type": "line",
          "x0": -14.4,
          "x1": -21.9,
          "y0": 49.84,
          "y1": 65.38
         },
         {
          "layer": "below",
          "line": {
           "color": "gray"
          },
          "type": "line",
          "x0": -21.9,
          "x1": -15.62,
          "y0": 65.38,
          "y1": 57.13
         },
         {
          "layer": "below",
          "line": {
           "color": "gray"
          },
          "type": "line",
          "x0": -15.62,
          "x1": -8.6,
          "y0": 57.13,
          "y1": 63.13
         },
         {
          "layer": "below",
          "line": {
           "color": "green"
          },
          "type": "line",
          "x0": -8.6,
          "x1": 8.38,
          "y0": 63.13,
          "y1": 107.38
         },
         {
          "line": {
           "color": "black"
          },
          "type": "line",
          "x0": -25,
          "x1": 25,
          "y0": 0,
          "y1": 0
         },
         {
          "line": {
           "color": "black"
          },
          "type": "line",
          "x0": -25,
          "x1": 25,
          "y0": 20,
          "y1": 20
         },
         {
          "line": {
           "color": "black"
          },
          "type": "line",
          "x0": -25,
          "x1": 25,
          "y0": 100,
          "y1": 100
         },
         {
          "line": {
           "color": "black"
          },
          "type": "line",
          "x0": -25,
          "x1": 25,
          "y0": 120,
          "y1": 120
         },
         {
          "line": {
           "color": "black"
          },
          "type": "line",
          "x0": -25,
          "x1": -25,
          "y0": 0,
          "y1": 120
         },
         {
          "line": {
           "color": "black"
          },
          "type": "line",
          "x0": 25,
          "x1": 25,
          "y0": 0,
          "y1": 120
         }
        ],
        "showlegend": false,
        "sliders": [
         {
          "active": 0,
          "currentvalue": {
           "prefix": ""
          },
          "len": 0.9,
          "pad": {
           "b": -25,
           "t": 25
          },
          "steps": [
           {
            "args": [
             [
              "1"
             ],
             {
              "frame": {
               "duration": 0,
               "redraw": false
              },
              "fromcurrent": true,
              "mode": "immediate",
              "transition": {
               "duration": 0,
               "easing": "linear"
              }
             }
            ],
            "label": "Start of Possession",
            "method": "animate"
           },
           {
            "args": [
             [
              "2"
             ],
             {
              "frame": {
               "duration": 0,
               "redraw": false
              },
              "fromcurrent": true,
              "mode": "immediate",
              "transition": {
               "duration": 0,
               "easing": "linear"
              }
             }
            ],
            "label": "Completion: Noah Saul Dish to<br>Elijah Long for 9 yards",
            "method": "animate"
           },
           {
            "args": [
             [
              "3"
             ],
             {
              "frame": {
               "duration": 0,
               "redraw": false
              },
              "fromcurrent": true,
              "mode": "immediate",
              "transition": {
               "duration": 0,
               "easing": "linear"
              }
             }
            ],
            "label": "Completion: Elijah Long Dump to<br>Noah Saul for -8 yards",
            "method": "animate"
           },
           {
            "args": [
             [
              "4"
             ],
             {
              "frame": {
               "duration": 0,
               "redraw": false
              },
              "fromcurrent": true,
              "mode": "immediate",
              "transition": {
               "duration": 0,
               "easing": "linear"
              }
             }
            ],
            "label": "Completion: Noah Saul Throw to<br>Seth Weaver for 8 yards",
            "method": "animate"
           },
           {
            "args": [
             [
              "5"
             ],
             {
              "frame": {
               "duration": 0,
               "redraw": false
              },
              "fromcurrent": true,
              "mode": "immediate",
              "transition": {
               "duration": 0,
               "easing": "linear"
              }
             }
            ],
            "label": "Completion: Seth Weaver Dish to<br>Noah Saul for 7 yards",
            "method": "animate"
           },
           {
            "args": [
             [
              "6"
             ],
             {
              "frame": {
               "duration": 0,
               "redraw": false
              },
              "fromcurrent": true,
              "mode": "immediate",
              "transition": {
               "duration": 0,
               "easing": "linear"
              }
             }
            ],
            "label": "Completion: Noah Saul Dump to<br>Seth Weaver for -9 yards",
            "method": "animate"
           },
           {
            "args": [
             [
              "7"
             ],
             {
              "frame": {
               "duration": 0,
               "redraw": false
              },
              "fromcurrent": true,
              "mode": "immediate",
              "transition": {
               "duration": 0,
               "easing": "linear"
              }
             }
            ],
            "label": "Completion: Seth Weaver Throw to<br>Eric Taylor for 7 yards",
            "method": "animate"
           },
           {
            "args": [
             [
              "8"
             ],
             {
              "frame": {
               "duration": 0,
               "redraw": false
              },
              "fromcurrent": true,
              "mode": "immediate",
              "transition": {
               "duration": 0,
               "easing": "linear"
              }
             }
            ],
            "label": "Completion: Eric Taylor Throw to<br>Joey Cretella for 11 yards",
            "method": "animate"
           },
           {
            "args": [
             [
              "9"
             ],
             {
              "frame": {
               "duration": 0,
               "redraw": false
              },
              "fromcurrent": true,
              "mode": "immediate",
              "transition": {
               "duration": 0,
               "easing": "linear"
              }
             }
            ],
            "label": "Completion: Joey Cretella Dish to<br>Seth Weaver for 10 yards",
            "method": "animate"
           },
           {
            "args": [
             [
              "10"
             ],
             {
              "frame": {
               "duration": 0,
               "redraw": false
              },
              "fromcurrent": true,
              "mode": "immediate",
              "transition": {
               "duration": 0,
               "easing": "linear"
              }
             }
            ],
            "label": "Completion: Seth Weaver Swing to<br>Joey Cretella for -13 yards",
            "method": "animate"
           },
           {
            "args": [
             [
              "11"
             ],
             {
              "frame": {
               "duration": 0,
               "redraw": false
              },
              "fromcurrent": true,
              "mode": "immediate",
              "transition": {
               "duration": 0,
               "easing": "linear"
              }
             }
            ],
            "label": "Completion: Joey Cretella Dish to<br>Elijah Long for 7 yards",
            "method": "animate"
           },
           {
            "args": [
             [
              "12"
             ],
             {
              "frame": {
               "duration": 0,
               "redraw": false
              },
              "fromcurrent": true,
              "mode": "immediate",
              "transition": {
               "duration": 0,
               "easing": "linear"
              }
             }
            ],
            "label": "Completion: Elijah Long Throw to<br>Ethan Bloodworth for 16 yards",
            "method": "animate"
           },
           {
            "args": [
             [
              "13"
             ],
             {
              "frame": {
               "duration": 0,
               "redraw": false
              },
              "fromcurrent": true,
              "mode": "immediate",
              "transition": {
               "duration": 0,
               "easing": "linear"
              }
             }
            ],
            "label": "Completion: Ethan Bloodworth Dump to<br>Elijah Long for -8 yards",
            "method": "animate"
           },
           {
            "args": [
             [
              "14"
             ],
             {
              "frame": {
               "duration": 0,
               "redraw": false
              },
              "fromcurrent": true,
              "mode": "immediate",
              "transition": {
               "duration": 0,
               "easing": "linear"
              }
             }
            ],
            "label": "Completion: Elijah Long Dish to<br>Ethan Bloodworth for 6 yards",
            "method": "animate"
           },
           {
            "args": [
             [
              "15"
             ],
             {
              "frame": {
               "duration": 0,
               "redraw": false
              },
              "fromcurrent": true,
              "mode": "immediate",
              "transition": {
               "duration": 0,
               "easing": "linear"
              }
             }
            ],
            "label": "Score: Ethan Bloodworth Throw to<br>Eric Taylor for 37 yards",
            "method": "animate"
           }
          ],
          "x": 0.1,
          "xanchor": "left",
          "y": 0.1,
          "yanchor": "top"
         }
        ],
        "template": {
         "data": {
          "bar": [
           {
            "error_x": {
             "color": "#2a3f5f"
            },
            "error_y": {
             "color": "#2a3f5f"
            },
            "marker": {
             "line": {
              "color": "#E5ECF6",
              "width": 0.5
             },
             "pattern": {
              "fillmode": "overlay",
              "size": 10,
              "solidity": 0.2
             }
            },
            "type": "bar"
           }
          ],
          "barpolar": [
           {
            "marker": {
             "line": {
              "color": "#E5ECF6",
              "width": 0.5
             },
             "pattern": {
              "fillmode": "overlay",
              "size": 10,
              "solidity": 0.2
             }
            },
            "type": "barpolar"
           }
          ],
          "carpet": [
           {
            "aaxis": {
             "endlinecolor": "#2a3f5f",
             "gridcolor": "white",
             "linecolor": "white",
             "minorgridcolor": "white",
             "startlinecolor": "#2a3f5f"
            },
            "baxis": {
             "endlinecolor": "#2a3f5f",
             "gridcolor": "white",
             "linecolor": "white",
             "minorgridcolor": "white",
             "startlinecolor": "#2a3f5f"
            },
            "type": "carpet"
           }
          ],
          "choropleth": [
           {
            "colorbar": {
             "outlinewidth": 0,
             "ticks": ""
            },
            "type": "choropleth"
           }
          ],
          "contour": [
           {
            "colorbar": {
             "outlinewidth": 0,
             "ticks": ""
            },
            "colorscale": [
             [
              0,
              "#0d0887"
             ],
             [
              0.1111111111111111,
              "#46039f"
             ],
             [
              0.2222222222222222,
              "#7201a8"
             ],
             [
              0.3333333333333333,
              "#9c179e"
             ],
             [
              0.4444444444444444,
              "#bd3786"
             ],
             [
              0.5555555555555556,
              "#d8576b"
             ],
             [
              0.6666666666666666,
              "#ed7953"
             ],
             [
              0.7777777777777778,
              "#fb9f3a"
             ],
             [
              0.8888888888888888,
              "#fdca26"
             ],
             [
              1,
              "#f0f921"
             ]
            ],
            "type": "contour"
           }
          ],
          "contourcarpet": [
           {
            "colorbar": {
             "outlinewidth": 0,
             "ticks": ""
            },
            "type": "contourcarpet"
           }
          ],
          "heatmap": [
           {
            "colorbar": {
             "outlinewidth": 0,
             "ticks": ""
            },
            "colorscale": [
             [
              0,
              "#0d0887"
             ],
             [
              0.1111111111111111,
              "#46039f"
             ],
             [
              0.2222222222222222,
              "#7201a8"
             ],
             [
              0.3333333333333333,
              "#9c179e"
             ],
             [
              0.4444444444444444,
              "#bd3786"
             ],
             [
              0.5555555555555556,
              "#d8576b"
             ],
             [
              0.6666666666666666,
              "#ed7953"
             ],
             [
              0.7777777777777778,
              "#fb9f3a"
             ],
             [
              0.8888888888888888,
              "#fdca26"
             ],
             [
              1,
              "#f0f921"
             ]
            ],
            "type": "heatmap"
           }
          ],
          "heatmapgl": [
           {
            "colorbar": {
             "outlinewidth": 0,
             "ticks": ""
            },
            "colorscale": [
             [
              0,
              "#0d0887"
             ],
             [
              0.1111111111111111,
              "#46039f"
             ],
             [
              0.2222222222222222,
              "#7201a8"
             ],
             [
              0.3333333333333333,
              "#9c179e"
             ],
             [
              0.4444444444444444,
              "#bd3786"
             ],
             [
              0.5555555555555556,
              "#d8576b"
             ],
             [
              0.6666666666666666,
              "#ed7953"
             ],
             [
              0.7777777777777778,
              "#fb9f3a"
             ],
             [
              0.8888888888888888,
              "#fdca26"
             ],
             [
              1,
              "#f0f921"
             ]
            ],
            "type": "heatmapgl"
           }
          ],
          "histogram": [
           {
            "marker": {
             "pattern": {
              "fillmode": "overlay",
              "size": 10,
              "solidity": 0.2
             }
            },
            "type": "histogram"
           }
          ],
          "histogram2d": [
           {
            "colorbar": {
             "outlinewidth": 0,
             "ticks": ""
            },
            "colorscale": [
             [
              0,
              "#0d0887"
             ],
             [
              0.1111111111111111,
              "#46039f"
             ],
             [
              0.2222222222222222,
              "#7201a8"
             ],
             [
              0.3333333333333333,
              "#9c179e"
             ],
             [
              0.4444444444444444,
              "#bd3786"
             ],
             [
              0.5555555555555556,
              "#d8576b"
             ],
             [
              0.6666666666666666,
              "#ed7953"
             ],
             [
              0.7777777777777778,
              "#fb9f3a"
             ],
             [
              0.8888888888888888,
              "#fdca26"
             ],
             [
              1,
              "#f0f921"
             ]
            ],
            "type": "histogram2d"
           }
          ],
          "histogram2dcontour": [
           {
            "colorbar": {
             "outlinewidth": 0,
             "ticks": ""
            },
            "colorscale": [
             [
              0,
              "#0d0887"
             ],
             [
              0.1111111111111111,
              "#46039f"
             ],
             [
              0.2222222222222222,
              "#7201a8"
             ],
             [
              0.3333333333333333,
              "#9c179e"
             ],
             [
              0.4444444444444444,
              "#bd3786"
             ],
             [
              0.5555555555555556,
              "#d8576b"
             ],
             [
              0.6666666666666666,
              "#ed7953"
             ],
             [
              0.7777777777777778,
              "#fb9f3a"
             ],
             [
              0.8888888888888888,
              "#fdca26"
             ],
             [
              1,
              "#f0f921"
             ]
            ],
            "type": "histogram2dcontour"
           }
          ],
          "mesh3d": [
           {
            "colorbar": {
             "outlinewidth": 0,
             "ticks": ""
            },
            "type": "mesh3d"
           }
          ],
          "parcoords": [
           {
            "line": {
             "colorbar": {
              "outlinewidth": 0,
              "ticks": ""
             }
            },
            "type": "parcoords"
           }
          ],
          "pie": [
           {
            "automargin": true,
            "type": "pie"
           }
          ],
          "scatter": [
           {
            "fillpattern": {
             "fillmode": "overlay",
             "size": 10,
             "solidity": 0.2
            },
            "type": "scatter"
           }
          ],
          "scatter3d": [
           {
            "line": {
             "colorbar": {
              "outlinewidth": 0,
              "ticks": ""
             }
            },
            "marker": {
             "colorbar": {
              "outlinewidth": 0,
              "ticks": ""
             }
            },
            "type": "scatter3d"
           }
          ],
          "scattercarpet": [
           {
            "marker": {
             "colorbar": {
              "outlinewidth": 0,
              "ticks": ""
             }
            },
            "type": "scattercarpet"
           }
          ],
          "scattergeo": [
           {
            "marker": {
             "colorbar": {
              "outlinewidth": 0,
              "ticks": ""
             }
            },
            "type": "scattergeo"
           }
          ],
          "scattergl": [
           {
            "marker": {
             "colorbar": {
              "outlinewidth": 0,
              "ticks": ""
             }
            },
            "type": "scattergl"
           }
          ],
          "scattermapbox": [
           {
            "marker": {
             "colorbar": {
              "outlinewidth": 0,
              "ticks": ""
             }
            },
            "type": "scattermapbox"
           }
          ],
          "scatterpolar": [
           {
            "marker": {
             "colorbar": {
              "outlinewidth": 0,
              "ticks": ""
             }
            },
            "type": "scatterpolar"
           }
          ],
          "scatterpolargl": [
           {
            "marker": {
             "colorbar": {
              "outlinewidth": 0,
              "ticks": ""
             }
            },
            "type": "scatterpolargl"
           }
          ],
          "scatterternary": [
           {
            "marker": {
             "colorbar": {
              "outlinewidth": 0,
              "ticks": ""
             }
            },
            "type": "scatterternary"
           }
          ],
          "surface": [
           {
            "colorbar": {
             "outlinewidth": 0,
             "ticks": ""
            },
            "colorscale": [
             [
              0,
              "#0d0887"
             ],
             [
              0.1111111111111111,
              "#46039f"
             ],
             [
              0.2222222222222222,
              "#7201a8"
             ],
             [
              0.3333333333333333,
              "#9c179e"
             ],
             [
              0.4444444444444444,
              "#bd3786"
             ],
             [
              0.5555555555555556,
              "#d8576b"
             ],
             [
              0.6666666666666666,
              "#ed7953"
             ],
             [
              0.7777777777777778,
              "#fb9f3a"
             ],
             [
              0.8888888888888888,
              "#fdca26"
             ],
             [
              1,
              "#f0f921"
             ]
            ],
            "type": "surface"
           }
          ],
          "table": [
           {
            "cells": {
             "fill": {
              "color": "#EBF0F8"
             },
             "line": {
              "color": "white"
             }
            },
            "header": {
             "fill": {
              "color": "#C8D4E3"
             },
             "line": {
              "color": "white"
             }
            },
            "type": "table"
           }
          ]
         },
         "layout": {
          "annotationdefaults": {
           "arrowcolor": "#2a3f5f",
           "arrowhead": 0,
           "arrowwidth": 1
          },
          "autotypenumbers": "strict",
          "coloraxis": {
           "colorbar": {
            "outlinewidth": 0,
            "ticks": ""
           }
          },
          "colorscale": {
           "diverging": [
            [
             0,
             "#8e0152"
            ],
            [
             0.1,
             "#c51b7d"
            ],
            [
             0.2,
             "#de77ae"
            ],
            [
             0.3,
             "#f1b6da"
            ],
            [
             0.4,
             "#fde0ef"
            ],
            [
             0.5,
             "#f7f7f7"
            ],
            [
             0.6,
             "#e6f5d0"
            ],
            [
             0.7,
             "#b8e186"
            ],
            [
             0.8,
             "#7fbc41"
            ],
            [
             0.9,
             "#4d9221"
            ],
            [
             1,
             "#276419"
            ]
           ],
           "sequential": [
            [
             0,
             "#0d0887"
            ],
            [
             0.1111111111111111,
             "#46039f"
            ],
            [
             0.2222222222222222,
             "#7201a8"
            ],
            [
             0.3333333333333333,
             "#9c179e"
            ],
            [
             0.4444444444444444,
             "#bd3786"
            ],
            [
             0.5555555555555556,
             "#d8576b"
            ],
            [
             0.6666666666666666,
             "#ed7953"
            ],
            [
             0.7777777777777778,
             "#fb9f3a"
            ],
            [
             0.8888888888888888,
             "#fdca26"
            ],
            [
             1,
             "#f0f921"
            ]
           ],
           "sequentialminus": [
            [
             0,
             "#0d0887"
            ],
            [
             0.1111111111111111,
             "#46039f"
            ],
            [
             0.2222222222222222,
             "#7201a8"
            ],
            [
             0.3333333333333333,
             "#9c179e"
            ],
            [
             0.4444444444444444,
             "#bd3786"
            ],
            [
             0.5555555555555556,
             "#d8576b"
            ],
            [
             0.6666666666666666,
             "#ed7953"
            ],
            [
             0.7777777777777778,
             "#fb9f3a"
            ],
            [
             0.8888888888888888,
             "#fdca26"
            ],
            [
             1,
             "#f0f921"
            ]
           ]
          },
          "colorway": [
           "#636efa",
           "#EF553B",
           "#00cc96",
           "#ab63fa",
           "#FFA15A",
           "#19d3f3",
           "#FF6692",
           "#B6E880",
           "#FF97FF",
           "#FECB52"
          ],
          "font": {
           "color": "#2a3f5f"
          },
          "geo": {
           "bgcolor": "white",
           "lakecolor": "white",
           "landcolor": "#E5ECF6",
           "showlakes": true,
           "showland": true,
           "subunitcolor": "white"
          },
          "hoverlabel": {
           "align": "left"
          },
          "hovermode": "closest",
          "mapbox": {
           "style": "light"
          },
          "paper_bgcolor": "white",
          "plot_bgcolor": "#E5ECF6",
          "polar": {
           "angularaxis": {
            "gridcolor": "white",
            "linecolor": "white",
            "ticks": ""
           },
           "bgcolor": "#E5ECF6",
           "radialaxis": {
            "gridcolor": "white",
            "linecolor": "white",
            "ticks": ""
           }
          },
          "scene": {
           "xaxis": {
            "backgroundcolor": "#E5ECF6",
            "gridcolor": "white",
            "gridwidth": 2,
            "linecolor": "white",
            "showbackground": true,
            "ticks": "",
            "zerolinecolor": "white"
           },
           "yaxis": {
            "backgroundcolor": "#E5ECF6",
            "gridcolor": "white",
            "gridwidth": 2,
            "linecolor": "white",
            "showbackground": true,
            "ticks": "",
            "zerolinecolor": "white"
           },
           "zaxis": {
            "backgroundcolor": "#E5ECF6",
            "gridcolor": "white",
            "gridwidth": 2,
            "linecolor": "white",
            "showbackground": true,
            "ticks": "",
            "zerolinecolor": "white"
           }
          },
          "shapedefaults": {
           "line": {
            "color": "#2a3f5f"
           }
          },
          "ternary": {
           "aaxis": {
            "gridcolor": "white",
            "linecolor": "white",
            "ticks": ""
           },
           "baxis": {
            "gridcolor": "white",
            "linecolor": "white",
            "ticks": ""
           },
           "bgcolor": "#E5ECF6",
           "caxis": {
            "gridcolor": "white",
            "linecolor": "white",
            "ticks": ""
           }
          },
          "title": {
           "x": 0.05
          },
          "xaxis": {
           "automargin": true,
           "gridcolor": "white",
           "linecolor": "white",
           "ticks": "",
           "title": {
            "standoff": 15
           },
           "zerolinecolor": "white",
           "zerolinewidth": 2
          },
          "yaxis": {
           "automargin": true,
           "gridcolor": "white",
           "linecolor": "white",
           "ticks": "",
           "title": {
            "standoff": 15
           },
           "zerolinecolor": "white",
           "zerolinewidth": 2
          }
         }
        },
        "updatemenus": [
         {
          "buttons": [
           {
            "args": [
             null,
             {
              "frame": {
               "duration": 500,
               "redraw": false
              },
              "fromcurrent": true,
              "mode": "immediate",
              "transition": {
               "duration": 500,
               "easing": "linear"
              }
             }
            ],
            "label": "&#9654;",
            "method": "animate"
           },
           {
            "args": [
             [
              null
             ],
             {
              "frame": {
               "duration": 0,
               "redraw": false
              },
              "fromcurrent": true,
              "mode": "immediate",
              "transition": {
               "duration": 0,
               "easing": "linear"
              }
             }
            ],
            "label": "&#9724;",
            "method": "animate"
           }
          ],
          "direction": "left",
          "pad": {
           "r": 10,
           "t": 70
          },
          "showactive": false,
          "type": "buttons",
          "x": 0.1,
          "xanchor": "right",
          "y": 0.125,
          "yanchor": "top"
         }
        ],
        "width": 385,
        "xaxis": {
         "anchor": "y",
         "domain": [
          0,
          1
         ],
         "fixedrange": true,
         "range": [
          -27,
          35
         ],
         "showgrid": false,
         "showticklabels": false,
         "ticks": "",
         "title": {},
         "zeroline": false
        },
        "yaxis": {
         "anchor": "x",
         "domain": [
          0,
          1
         ],
         "fixedrange": true,
         "range": [
          -1,
          121
         ],
         "scaleanchor": "x",
         "scaleratio": 1,
         "showgrid": false,
         "showticklabels": false,
         "ticks": "",
         "title": {},
         "zeroline": false
        }
       }
      }
     },
     "metadata": {},
     "output_type": "display_data"
    }
   ],
   "source": [
    "fig"
   ]
  },
  {
   "cell_type": "code",
   "execution_count": 18,
   "metadata": {},
   "outputs": [],
   "source": [
    "df = g.load_possession_df(12, home=False)"
   ]
  },
  {
   "cell_type": "code",
   "execution_count": 19,
   "metadata": {},
   "outputs": [
    {
     "data": {
      "text/html": [
       "<div>\n",
       "<style scoped>\n",
       "    .dataframe tbody tr th:only-of-type {\n",
       "        vertical-align: middle;\n",
       "    }\n",
       "\n",
       "    .dataframe tbody tr th {\n",
       "        vertical-align: top;\n",
       "    }\n",
       "\n",
       "    .dataframe thead th {\n",
       "        text-align: right;\n",
       "    }\n",
       "</style>\n",
       "<table border=\"1\" class=\"dataframe\">\n",
       "  <thead>\n",
       "    <tr style=\"text-align: right;\">\n",
       "      <th></th>\n",
       "      <th>t</th>\n",
       "      <th>r</th>\n",
       "      <th>x</th>\n",
       "      <th>y</th>\n",
       "      <th>s</th>\n",
       "      <th>h</th>\n",
       "      <th>c</th>\n",
       "      <th>game_id</th>\n",
       "      <th>team_id</th>\n",
       "      <th>opponent_team_id</th>\n",
       "      <th>...</th>\n",
       "      <th>9328</th>\n",
       "      <th>9330</th>\n",
       "      <th>9331</th>\n",
       "      <th>9332</th>\n",
       "      <th>9333</th>\n",
       "      <th>9335</th>\n",
       "      <th>centering_pass</th>\n",
       "      <th>throw_type</th>\n",
       "      <th>play_description</th>\n",
       "      <th>event</th>\n",
       "    </tr>\n",
       "  </thead>\n",
       "  <tbody>\n",
       "    <tr>\n",
       "      <th>0</th>\n",
       "      <td>20</td>\n",
       "      <td>8814.0</td>\n",
       "      <td>-0.35</td>\n",
       "      <td>22.09</td>\n",
       "      <td>NaN</td>\n",
       "      <td>NaN</td>\n",
       "      <td>NaN</td>\n",
       "      <td>2796</td>\n",
       "      <td>18</td>\n",
       "      <td>5</td>\n",
       "      <td>...</td>\n",
       "      <td>1</td>\n",
       "      <td>0</td>\n",
       "      <td>0</td>\n",
       "      <td>1</td>\n",
       "      <td>1</td>\n",
       "      <td>0</td>\n",
       "      <td>False</td>\n",
       "      <td>Dish</td>\n",
       "      <td>Completion: Noah Saul Dish to&lt;br&gt;Elijah Long f...</td>\n",
       "      <td>1</td>\n",
       "    </tr>\n",
       "    <tr>\n",
       "      <th>1</th>\n",
       "      <td>20</td>\n",
       "      <td>8804.0</td>\n",
       "      <td>7.36</td>\n",
       "      <td>30.61</td>\n",
       "      <td>NaN</td>\n",
       "      <td>NaN</td>\n",
       "      <td>NaN</td>\n",
       "      <td>2796</td>\n",
       "      <td>18</td>\n",
       "      <td>5</td>\n",
       "      <td>...</td>\n",
       "      <td>1</td>\n",
       "      <td>0</td>\n",
       "      <td>0</td>\n",
       "      <td>1</td>\n",
       "      <td>1</td>\n",
       "      <td>0</td>\n",
       "      <td>False</td>\n",
       "      <td>Dump</td>\n",
       "      <td>Completion: Elijah Long Dump to&lt;br&gt;Noah Saul f...</td>\n",
       "      <td>2</td>\n",
       "    </tr>\n",
       "    <tr>\n",
       "      <th>2</th>\n",
       "      <td>20</td>\n",
       "      <td>8814.0</td>\n",
       "      <td>-6.01</td>\n",
       "      <td>22.50</td>\n",
       "      <td>NaN</td>\n",
       "      <td>NaN</td>\n",
       "      <td>NaN</td>\n",
       "      <td>2796</td>\n",
       "      <td>18</td>\n",
       "      <td>5</td>\n",
       "      <td>...</td>\n",
       "      <td>1</td>\n",
       "      <td>0</td>\n",
       "      <td>0</td>\n",
       "      <td>1</td>\n",
       "      <td>1</td>\n",
       "      <td>0</td>\n",
       "      <td>False</td>\n",
       "      <td>Throw</td>\n",
       "      <td>Completion: Noah Saul Throw to&lt;br&gt;Seth Weaver ...</td>\n",
       "      <td>3</td>\n",
       "    </tr>\n",
       "    <tr>\n",
       "      <th>3</th>\n",
       "      <td>20</td>\n",
       "      <td>9328.0</td>\n",
       "      <td>-20.74</td>\n",
       "      <td>30.61</td>\n",
       "      <td>NaN</td>\n",
       "      <td>NaN</td>\n",
       "      <td>NaN</td>\n",
       "      <td>2796</td>\n",
       "      <td>18</td>\n",
       "      <td>5</td>\n",
       "      <td>...</td>\n",
       "      <td>1</td>\n",
       "      <td>0</td>\n",
       "      <td>0</td>\n",
       "      <td>1</td>\n",
       "      <td>1</td>\n",
       "      <td>0</td>\n",
       "      <td>False</td>\n",
       "      <td>Dish</td>\n",
       "      <td>Completion: Seth Weaver Dish to&lt;br&gt;Noah Saul f...</td>\n",
       "      <td>4</td>\n",
       "    </tr>\n",
       "    <tr>\n",
       "      <th>4</th>\n",
       "      <td>20</td>\n",
       "      <td>8814.0</td>\n",
       "      <td>-24.22</td>\n",
       "      <td>37.90</td>\n",
       "      <td>NaN</td>\n",
       "      <td>NaN</td>\n",
       "      <td>NaN</td>\n",
       "      <td>2796</td>\n",
       "      <td>18</td>\n",
       "      <td>5</td>\n",
       "      <td>...</td>\n",
       "      <td>1</td>\n",
       "      <td>0</td>\n",
       "      <td>0</td>\n",
       "      <td>1</td>\n",
       "      <td>1</td>\n",
       "      <td>0</td>\n",
       "      <td>False</td>\n",
       "      <td>Dump</td>\n",
       "      <td>Completion: Noah Saul Dump to&lt;br&gt;Seth Weaver f...</td>\n",
       "      <td>5</td>\n",
       "    </tr>\n",
       "    <tr>\n",
       "      <th>5</th>\n",
       "      <td>20</td>\n",
       "      <td>9328.0</td>\n",
       "      <td>-18.28</td>\n",
       "      <td>28.84</td>\n",
       "      <td>NaN</td>\n",
       "      <td>NaN</td>\n",
       "      <td>NaN</td>\n",
       "      <td>2796</td>\n",
       "      <td>18</td>\n",
       "      <td>5</td>\n",
       "      <td>...</td>\n",
       "      <td>1</td>\n",
       "      <td>0</td>\n",
       "      <td>0</td>\n",
       "      <td>1</td>\n",
       "      <td>1</td>\n",
       "      <td>0</td>\n",
       "      <td>False</td>\n",
       "      <td>Throw</td>\n",
       "      <td>Completion: Seth Weaver Throw to&lt;br&gt;Eric Taylo...</td>\n",
       "      <td>6</td>\n",
       "    </tr>\n",
       "    <tr>\n",
       "      <th>6</th>\n",
       "      <td>20</td>\n",
       "      <td>8808.0</td>\n",
       "      <td>0.40</td>\n",
       "      <td>35.59</td>\n",
       "      <td>NaN</td>\n",
       "      <td>NaN</td>\n",
       "      <td>NaN</td>\n",
       "      <td>2796</td>\n",
       "      <td>18</td>\n",
       "      <td>5</td>\n",
       "      <td>...</td>\n",
       "      <td>1</td>\n",
       "      <td>0</td>\n",
       "      <td>0</td>\n",
       "      <td>1</td>\n",
       "      <td>1</td>\n",
       "      <td>0</td>\n",
       "      <td>False</td>\n",
       "      <td>Throw</td>\n",
       "      <td>Completion: Eric Taylor Throw to&lt;br&gt;Joey Crete...</td>\n",
       "      <td>7</td>\n",
       "    </tr>\n",
       "    <tr>\n",
       "      <th>7</th>\n",
       "      <td>20</td>\n",
       "      <td>8805.0</td>\n",
       "      <td>20.18</td>\n",
       "      <td>46.15</td>\n",
       "      <td>NaN</td>\n",
       "      <td>NaN</td>\n",
       "      <td>NaN</td>\n",
       "      <td>2796</td>\n",
       "      <td>18</td>\n",
       "      <td>5</td>\n",
       "      <td>...</td>\n",
       "      <td>1</td>\n",
       "      <td>0</td>\n",
       "      <td>0</td>\n",
       "      <td>1</td>\n",
       "      <td>1</td>\n",
       "      <td>0</td>\n",
       "      <td>False</td>\n",
       "      <td>Dish</td>\n",
       "      <td>Completion: Joey Cretella Dish to&lt;br&gt;Seth Weav...</td>\n",
       "      <td>8</td>\n",
       "    </tr>\n",
       "    <tr>\n",
       "      <th>8</th>\n",
       "      <td>20</td>\n",
       "      <td>9328.0</td>\n",
       "      <td>20.59</td>\n",
       "      <td>55.77</td>\n",
       "      <td>NaN</td>\n",
       "      <td>NaN</td>\n",
       "      <td>NaN</td>\n",
       "      <td>2796</td>\n",
       "      <td>18</td>\n",
       "      <td>5</td>\n",
       "      <td>...</td>\n",
       "      <td>1</td>\n",
       "      <td>0</td>\n",
       "      <td>0</td>\n",
       "      <td>1</td>\n",
       "      <td>1</td>\n",
       "      <td>0</td>\n",
       "      <td>False</td>\n",
       "      <td>Swing</td>\n",
       "      <td>Completion: Seth Weaver Swing to&lt;br&gt;Joey Crete...</td>\n",
       "      <td>9</td>\n",
       "    </tr>\n",
       "    <tr>\n",
       "      <th>9</th>\n",
       "      <td>20</td>\n",
       "      <td>8805.0</td>\n",
       "      <td>-5.39</td>\n",
       "      <td>42.88</td>\n",
       "      <td>NaN</td>\n",
       "      <td>NaN</td>\n",
       "      <td>NaN</td>\n",
       "      <td>2796</td>\n",
       "      <td>18</td>\n",
       "      <td>5</td>\n",
       "      <td>...</td>\n",
       "      <td>1</td>\n",
       "      <td>0</td>\n",
       "      <td>0</td>\n",
       "      <td>1</td>\n",
       "      <td>1</td>\n",
       "      <td>0</td>\n",
       "      <td>False</td>\n",
       "      <td>Dish</td>\n",
       "      <td>Completion: Joey Cretella Dish to&lt;br&gt;Elijah Lo...</td>\n",
       "      <td>10</td>\n",
       "    </tr>\n",
       "    <tr>\n",
       "      <th>10</th>\n",
       "      <td>20</td>\n",
       "      <td>8804.0</td>\n",
       "      <td>-14.40</td>\n",
       "      <td>49.84</td>\n",
       "      <td>NaN</td>\n",
       "      <td>NaN</td>\n",
       "      <td>NaN</td>\n",
       "      <td>2796</td>\n",
       "      <td>18</td>\n",
       "      <td>5</td>\n",
       "      <td>...</td>\n",
       "      <td>1</td>\n",
       "      <td>0</td>\n",
       "      <td>0</td>\n",
       "      <td>1</td>\n",
       "      <td>1</td>\n",
       "      <td>0</td>\n",
       "      <td>False</td>\n",
       "      <td>Throw</td>\n",
       "      <td>Completion: Elijah Long Throw to&lt;br&gt;Ethan Bloo...</td>\n",
       "      <td>11</td>\n",
       "    </tr>\n",
       "    <tr>\n",
       "      <th>11</th>\n",
       "      <td>20</td>\n",
       "      <td>9332.0</td>\n",
       "      <td>-21.90</td>\n",
       "      <td>65.38</td>\n",
       "      <td>NaN</td>\n",
       "      <td>NaN</td>\n",
       "      <td>NaN</td>\n",
       "      <td>2796</td>\n",
       "      <td>18</td>\n",
       "      <td>5</td>\n",
       "      <td>...</td>\n",
       "      <td>1</td>\n",
       "      <td>0</td>\n",
       "      <td>0</td>\n",
       "      <td>1</td>\n",
       "      <td>1</td>\n",
       "      <td>0</td>\n",
       "      <td>False</td>\n",
       "      <td>Dump</td>\n",
       "      <td>Completion: Ethan Bloodworth Dump to&lt;br&gt;Elijah...</td>\n",
       "      <td>12</td>\n",
       "    </tr>\n",
       "    <tr>\n",
       "      <th>12</th>\n",
       "      <td>20</td>\n",
       "      <td>8804.0</td>\n",
       "      <td>-15.62</td>\n",
       "      <td>57.13</td>\n",
       "      <td>NaN</td>\n",
       "      <td>NaN</td>\n",
       "      <td>NaN</td>\n",
       "      <td>2796</td>\n",
       "      <td>18</td>\n",
       "      <td>5</td>\n",
       "      <td>...</td>\n",
       "      <td>1</td>\n",
       "      <td>0</td>\n",
       "      <td>0</td>\n",
       "      <td>1</td>\n",
       "      <td>1</td>\n",
       "      <td>0</td>\n",
       "      <td>False</td>\n",
       "      <td>Dish</td>\n",
       "      <td>Completion: Elijah Long Dish to&lt;br&gt;Ethan Blood...</td>\n",
       "      <td>13</td>\n",
       "    </tr>\n",
       "    <tr>\n",
       "      <th>13</th>\n",
       "      <td>20</td>\n",
       "      <td>9332.0</td>\n",
       "      <td>-8.60</td>\n",
       "      <td>63.13</td>\n",
       "      <td>NaN</td>\n",
       "      <td>NaN</td>\n",
       "      <td>NaN</td>\n",
       "      <td>2796</td>\n",
       "      <td>18</td>\n",
       "      <td>5</td>\n",
       "      <td>...</td>\n",
       "      <td>1</td>\n",
       "      <td>0</td>\n",
       "      <td>0</td>\n",
       "      <td>1</td>\n",
       "      <td>1</td>\n",
       "      <td>0</td>\n",
       "      <td>False</td>\n",
       "      <td>Throw</td>\n",
       "      <td>Score: Ethan Bloodworth Throw to&lt;br&gt;Eric Taylo...</td>\n",
       "      <td>14</td>\n",
       "    </tr>\n",
       "  </tbody>\n",
       "</table>\n",
       "<p>14 rows × 69 columns</p>\n",
       "</div>"
      ],
      "text/plain": [
       "     t       r      x      y   s   h    c  game_id  team_id  opponent_team_id  \\\n",
       "0   20  8814.0  -0.35  22.09 NaN NaN  NaN     2796       18                 5   \n",
       "1   20  8804.0   7.36  30.61 NaN NaN  NaN     2796       18                 5   \n",
       "2   20  8814.0  -6.01  22.50 NaN NaN  NaN     2796       18                 5   \n",
       "3   20  9328.0 -20.74  30.61 NaN NaN  NaN     2796       18                 5   \n",
       "4   20  8814.0 -24.22  37.90 NaN NaN  NaN     2796       18                 5   \n",
       "5   20  9328.0 -18.28  28.84 NaN NaN  NaN     2796       18                 5   \n",
       "6   20  8808.0   0.40  35.59 NaN NaN  NaN     2796       18                 5   \n",
       "7   20  8805.0  20.18  46.15 NaN NaN  NaN     2796       18                 5   \n",
       "8   20  9328.0  20.59  55.77 NaN NaN  NaN     2796       18                 5   \n",
       "9   20  8805.0  -5.39  42.88 NaN NaN  NaN     2796       18                 5   \n",
       "10  20  8804.0 -14.40  49.84 NaN NaN  NaN     2796       18                 5   \n",
       "11  20  9332.0 -21.90  65.38 NaN NaN  NaN     2796       18                 5   \n",
       "12  20  8804.0 -15.62  57.13 NaN NaN  NaN     2796       18                 5   \n",
       "13  20  9332.0  -8.60  63.13 NaN NaN  NaN     2796       18                 5   \n",
       "\n",
       "    ...  9328 9330  9331  9332  9333  9335  centering_pass throw_type  \\\n",
       "0   ...     1    0     0     1     1     0           False       Dish   \n",
       "1   ...     1    0     0     1     1     0           False       Dump   \n",
       "2   ...     1    0     0     1     1     0           False      Throw   \n",
       "3   ...     1    0     0     1     1     0           False       Dish   \n",
       "4   ...     1    0     0     1     1     0           False       Dump   \n",
       "5   ...     1    0     0     1     1     0           False      Throw   \n",
       "6   ...     1    0     0     1     1     0           False      Throw   \n",
       "7   ...     1    0     0     1     1     0           False       Dish   \n",
       "8   ...     1    0     0     1     1     0           False      Swing   \n",
       "9   ...     1    0     0     1     1     0           False       Dish   \n",
       "10  ...     1    0     0     1     1     0           False      Throw   \n",
       "11  ...     1    0     0     1     1     0           False       Dump   \n",
       "12  ...     1    0     0     1     1     0           False       Dish   \n",
       "13  ...     1    0     0     1     1     0           False      Throw   \n",
       "\n",
       "                                     play_description event  \n",
       "0   Completion: Noah Saul Dish to<br>Elijah Long f...     1  \n",
       "1   Completion: Elijah Long Dump to<br>Noah Saul f...     2  \n",
       "2   Completion: Noah Saul Throw to<br>Seth Weaver ...     3  \n",
       "3   Completion: Seth Weaver Dish to<br>Noah Saul f...     4  \n",
       "4   Completion: Noah Saul Dump to<br>Seth Weaver f...     5  \n",
       "5   Completion: Seth Weaver Throw to<br>Eric Taylo...     6  \n",
       "6   Completion: Eric Taylor Throw to<br>Joey Crete...     7  \n",
       "7   Completion: Joey Cretella Dish to<br>Seth Weav...     8  \n",
       "8   Completion: Seth Weaver Swing to<br>Joey Crete...     9  \n",
       "9   Completion: Joey Cretella Dish to<br>Elijah Lo...    10  \n",
       "10  Completion: Elijah Long Throw to<br>Ethan Bloo...    11  \n",
       "11  Completion: Ethan Bloodworth Dump to<br>Elijah...    12  \n",
       "12  Completion: Elijah Long Dish to<br>Ethan Blood...    13  \n",
       "13  Score: Ethan Bloodworth Throw to<br>Eric Taylo...    14  \n",
       "\n",
       "[14 rows x 69 columns]"
      ]
     },
     "execution_count": 19,
     "metadata": {},
     "output_type": "execute_result"
    }
   ],
   "source": [
    "df"
   ]
  },
  {
   "cell_type": "markdown",
   "metadata": {},
   "source": [
    "## Notes\n",
    "- The `s` values in the events data frames refer to game clock and not video clock.\n"
   ]
  }
 ],
 "metadata": {
  "interpreter": {
   "hash": "3bf2a0bbf832fb97e1c3f47f47cc56632f419a0048b6cfe805a9d1149aa9f3b0"
  },
  "kernelspec": {
   "display_name": "Python 3.9.6 64-bit ('audl-cv')",
   "language": "python",
   "name": "python3"
  },
  "language_info": {
   "codemirror_mode": {
    "name": "ipython",
    "version": 3
   },
   "file_extension": ".py",
   "mimetype": "text/x-python",
   "name": "python",
   "nbconvert_exporter": "python",
   "pygments_lexer": "ipython3",
   "version": "3.9.6"
  },
  "orig_nbformat": 4
 },
 "nbformat": 4,
 "nbformat_minor": 2
}
